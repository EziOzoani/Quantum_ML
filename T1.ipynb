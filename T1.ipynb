{
 "cells": [
  {
   "cell_type": "code",
   "execution_count": 1,
   "metadata": {},
   "outputs": [],
   "source": [
    "import qiskit as q\n",
    "%matplotlib inline\n",
    "\n"
   ]
  },
  {
   "cell_type": "code",
   "execution_count": 2,
   "metadata": {},
   "outputs": [],
   "source": [
    "from qiskit import QuantumRegister, ClassicalRegister, QuantumCircuit\n",
    "from numpy import pi"
   ]
  },
  {
   "cell_type": "code",
   "execution_count": 3,
   "metadata": {},
   "outputs": [],
   "source": [
    "#USE HAMMING DISTANCE"
   ]
  },
  {
   "cell_type": "code",
   "execution_count": 4,
   "metadata": {},
   "outputs": [],
   "source": [
    "#Hamming distance is defined as counting the number of which the corresponding symbols of a two bit vectors of equal length are different e.g\n",
    "\n",
    "#Hamming Distance:( 0110  0001) has a distance of 2\n",
    "#Hamming Distance:( 0110  1110) has a distance of 3\n"
   ]
  },
  {
   "cell_type": "code",
   "execution_count": 5,
   "metadata": {},
   "outputs": [],
   "source": [
    "#metric used for measuring similarity. It’s just a traditional XOR "
   ]
  },
  {
   "cell_type": "code",
   "execution_count": 6,
   "metadata": {},
   "outputs": [],
   "source": [
    "qreg_q = QuantumRegister(5, 'q')\n",
    "creg_c = ClassicalRegister(5, 'c')\n",
    "circuit = QuantumCircuit(qreg_q, creg_c)"
   ]
  },
  {
   "cell_type": "code",
   "execution_count": 7,
   "metadata": {},
   "outputs": [
    {
     "data": {
      "image/png": "[encoded data removed]",
      "text/plain": [
       "<Figure size 86.5974x385.28 with 1 Axes>"
      ]
     },
     "execution_count": 7,
     "metadata": {},
     "output_type": "execute_result"
    }
   ],
   "source": [
    "#different illustraitve options\n",
    "circuit.draw() # will give an ascii representation of the circuit\n",
    "circuit.draw(output=\"mpl\")"
   ]
  },
  {
   "cell_type": "code",
   "execution_count": 8,
   "metadata": {},
   "outputs": [],
   "source": [
    "#STEP 2). Unclassified quantum state in the first register, training set |T⟩ in the second register, ancillary qubit in the last register."
   ]
  },
  {
   "cell_type": "code",
   "execution_count": 9,
   "metadata": {},
   "outputs": [
    {
     "data": {
      "text/plain": [
       "<qiskit.circuit.instructionset.InstructionSet at 0x7fc8a6677a50>"
      ]
     },
     "execution_count": 9,
     "metadata": {},
     "output_type": "execute_result"
    }
   ],
   "source": [
    "circuit.h(qreg_q[0]) #The H, or Hadamard, gate rotates the states  and  to  and , respectively.\n",
    "circuit.h(qreg_q[1])#It is useful for making superpositions. If you have a universal gate set on a classical computer and add the Hadamard gate, \n",
    "#it becomes a universal gate set on a quantum computer.\n"
   ]
  },
  {
   "cell_type": "code",
   "execution_count": 10,
   "metadata": {},
   "outputs": [],
   "source": [
    "#ancillary qubit in the last register. --> make use of the identity gate which is actually the absence of a gate. \n",
    "#It ensures that nothing is applied to a qubit for one unit of gate time."
   ]
  },
  {
   "cell_type": "code",
   "execution_count": 11,
   "metadata": {},
   "outputs": [
    {
     "data": {
      "text/plain": [
       "<qiskit.circuit.instructionset.InstructionSet at 0x7fc8a6677290>"
      ]
     },
     "execution_count": 11,
     "metadata": {},
     "output_type": "execute_result"
    }
   ],
   "source": [
    "circuit.id(qreg_q[4])"
   ]
  },
  {
   "cell_type": "code",
   "execution_count": 12,
   "metadata": {},
   "outputs": [
    {
     "data": {
      "image/png": "[encoded data removed]",
      "text/plain": [
       "<Figure size 146.797x385.28 with 1 Axes>"
      ]
     },
     "execution_count": 12,
     "metadata": {},
     "output_type": "execute_result"
    }
   ],
   "source": [
    "\n",
    "\n",
    "circuit.draw(output=\"mpl\")"
   ]
  },
  {
   "cell_type": "code",
   "execution_count": 13,
   "metadata": {},
   "outputs": [],
   "source": [
    "#STEP 3). Apply a CNOT --> the result of q2,q3, minus each of the elements of the superposition "
   ]
  },
  {
   "cell_type": "code",
   "execution_count": 14,
   "metadata": {},
   "outputs": [
    {
     "data": {
      "text/html": [
       "<pre style=\"word-wrap: normal;white-space: pre;background: #fff0;line-height: 1.1;font-family: &quot;Courier New&quot;,Courier,monospace\">     ┌───┐     \n",
       "q_0: ┤ H ├─────\n",
       "     ├───┤     \n",
       "q_1: ┤ H ├──■──\n",
       "     └───┘  │  \n",
       "q_2: ───────┼──\n",
       "     ┌───┐┌─┴─┐\n",
       "q_3: ┤ X ├┤ X ├\n",
       "     ├───┤└───┘\n",
       "q_4: ┤ I ├─────\n",
       "     └───┘     \n",
       "c: 5/══════════\n",
       "               </pre>"
      ],
      "text/plain": [
       "     ┌───┐     \n",
       "q_0: ┤ H ├─────\n",
       "     ├───┤     \n",
       "q_1: ┤ H ├──■──\n",
       "     └───┘  │  \n",
       "q_2: ───────┼──\n",
       "     ┌───┐┌─┴─┐\n",
       "q_3: ┤ X ├┤ X ├\n",
       "     ├───┤└───┘\n",
       "q_4: ┤ I ├─────\n",
       "     └───┘     \n",
       "c: 5/══════════\n",
       "               "
      ]
     },
     "execution_count": 14,
     "metadata": {},
     "output_type": "execute_result"
    }
   ],
   "source": [
    "circuit.x(qreg_q[3])#The NOT gate, also known as the Pauli X gate, flips the  state to , and vice versa. \n",
    "circuit.cx(qreg_q[1], qreg_q[3])#CNOT gate (ontrolled NOT)\n",
    "# acts on a pair of qubits, with one acting as ‘control’ and the other as ‘target’. It performs a NOT on the target whenever the control is in state |1>\n",
    "# If the control qubit is in a superposition, this gate creates entanglement.\n",
    "circuit.draw()"
   ]
  },
  {
   "cell_type": "code",
   "execution_count": 15,
   "metadata": {},
   "outputs": [
    {
     "data": {
      "image/png": "[encoded data removed]",
      "text/plain": [
       "<Figure size 267.197x385.28 with 1 Axes>"
      ]
     },
     "execution_count": 15,
     "metadata": {},
     "output_type": "execute_result"
    }
   ],
   "source": [
    "circuit.id(qreg_q[4])\n",
    "circuit.cx(qreg_q[0], qreg_q[2])\n",
    "circuit.draw(output=\"mpl\")\n"
   ]
  },
  {
   "cell_type": "code",
   "execution_count": 16,
   "metadata": {},
   "outputs": [
    {
     "data": {
      "text/html": [
       "<pre style=\"word-wrap: normal;white-space: pre;background: #fff0;line-height: 1.1;font-family: &quot;Courier New&quot;,Courier,monospace\">     ┌───┐          ┌───┐\n",
       "q_0: ┤ H ├───────■──┤ I ├\n",
       "     ├───┤       │  ├───┤\n",
       "q_1: ┤ H ├──■────┼──┤ I ├\n",
       "     └───┘  │  ┌─┴─┐└───┘\n",
       "q_2: ───────┼──┤ X ├─────\n",
       "     ┌───┐┌─┴─┐├───┤     \n",
       "q_3: ┤ X ├┤ X ├┤ I ├─────\n",
       "     ├───┤├───┤├───┤     \n",
       "q_4: ┤ I ├┤ I ├┤ I ├─────\n",
       "     └───┘└───┘└───┘     \n",
       "c: 5/════════════════════\n",
       "                         </pre>"
      ],
      "text/plain": [
       "     ┌───┐          ┌───┐\n",
       "q_0: ┤ H ├───────■──┤ I ├\n",
       "     ├───┤       │  ├───┤\n",
       "q_1: ┤ H ├──■────┼──┤ I ├\n",
       "     └───┘  │  ┌─┴─┐└───┘\n",
       "q_2: ───────┼──┤ X ├─────\n",
       "     ┌───┐┌─┴─┐├───┤     \n",
       "q_3: ┤ X ├┤ X ├┤ I ├─────\n",
       "     ├───┤├───┤├───┤     \n",
       "q_4: ┤ I ├┤ I ├┤ I ├─────\n",
       "     └───┘└───┘└───┘     \n",
       "c: 5/════════════════════\n",
       "                         "
      ]
     },
     "execution_count": 16,
     "metadata": {},
     "output_type": "execute_result"
    }
   ],
   "source": [
    "circuit.id(qreg_q[3])\n",
    "circuit.id(qreg_q[4])\n",
    "circuit.id(qreg_q[0])\n",
    "circuit.id(qreg_q[1])\n",
    "circuit.draw()"
   ]
  },
  {
   "cell_type": "code",
   "execution_count": 17,
   "metadata": {},
   "outputs": [
    {
     "data": {
      "text/html": [
       "<pre style=\"word-wrap: normal;white-space: pre;background: #fff0;line-height: 1.1;font-family: &quot;Courier New&quot;,Courier,monospace\">     ┌───┐          ┌───┐\n",
       "q_0: ┤ H ├───────■──┤ I ├\n",
       "     ├───┤       │  ├───┤\n",
       "q_1: ┤ H ├──■────┼──┤ I ├\n",
       "     └───┘  │  ┌─┴─┐├───┤\n",
       "q_2: ───────┼──┤ X ├┤ X ├\n",
       "     ┌───┐┌─┴─┐├───┤├───┤\n",
       "q_3: ┤ X ├┤ X ├┤ I ├┤ X ├\n",
       "     ├───┤├───┤├───┤├───┤\n",
       "q_4: ┤ I ├┤ I ├┤ I ├┤ I ├\n",
       "     └───┘└───┘└───┘└───┘\n",
       "c: 5/════════════════════\n",
       "                         </pre>"
      ],
      "text/plain": [
       "     ┌───┐          ┌───┐\n",
       "q_0: ┤ H ├───────■──┤ I ├\n",
       "     ├───┤       │  ├───┤\n",
       "q_1: ┤ H ├──■────┼──┤ I ├\n",
       "     └───┘  │  ┌─┴─┐├───┤\n",
       "q_2: ───────┼──┤ X ├┤ X ├\n",
       "     ┌───┐┌─┴─┐├───┤├───┤\n",
       "q_3: ┤ X ├┤ X ├┤ I ├┤ X ├\n",
       "     ├───┤├───┤├───┤├───┤\n",
       "q_4: ┤ I ├┤ I ├┤ I ├┤ I ├\n",
       "     └───┘└───┘└───┘└───┘\n",
       "c: 5/════════════════════\n",
       "                         "
      ]
     },
     "execution_count": 17,
     "metadata": {},
     "output_type": "execute_result"
    }
   ],
   "source": [
    "circuit.x(qreg_q[2])\n",
    "circuit.x(qreg_q[3])\n",
    "circuit.id(qreg_q[4])\n",
    "\n",
    "circuit.draw()"
   ]
  },
  {
   "cell_type": "code",
   "execution_count": 18,
   "metadata": {},
   "outputs": [],
   "source": [
    "#STEP 4) Compute Hamming distance {TBD}"
   ]
  },
  {
   "cell_type": "code",
   "execution_count": 19,
   "metadata": {},
   "outputs": [
    {
     "data": {
      "image/png": "[encoded data removed]",
      "text/plain": [
       "<Figure size 387.597x385.28 with 1 Axes>"
      ]
     },
     "execution_count": 19,
     "metadata": {},
     "output_type": "execute_result"
    }
   ],
   "source": [
    "circuit.h(qreg_q[4])\n",
    "circuit.draw(output=\"mpl\")"
   ]
  },
  {
   "cell_type": "code",
   "execution_count": 20,
   "metadata": {},
   "outputs": [],
   "source": [
    "#Notes --> rough work"
   ]
  },
  {
   "cell_type": "code",
   "execution_count": 21,
   "metadata": {},
   "outputs": [],
   "source": [
    "#Once the addition is done, select the most significant qubit and use the quantum OR gate to get the signal COND^p,\n",
    "#which indicates the condition of Hamming distance <=t"
   ]
  },
  {
   "cell_type": "code",
   "execution_count": 22,
   "metadata": {},
   "outputs": [],
   "source": [
    "#We want to select the ones that have a hamming distance lower than a certain t  [we have them in superposition]"
   ]
  },
  {
   "cell_type": "code",
   "execution_count": 23,
   "metadata": {},
   "outputs": [],
   "source": [
    "#So for 00001, the two lowest  ‘01’ encode one the elements of the training set. \n",
    "#The following two ( reading from right to left), encode the result of subtracting the input e,g ‘10’, against that element of the training set"
   ]
  },
  {
   "cell_type": "code",
   "execution_count": 24,
   "metadata": {},
   "outputs": [],
   "source": [
    "#Now the filter will say that we want only the ones below a certain threshold in terms of their hamming distance.\n",
    "#Proposed way to do this is to add a constant , some a, so if they overflow then the hamming distance is there.\n"
   ]
  },
  {
   "cell_type": "code",
   "execution_count": null,
   "metadata": {},
   "outputs": [],
   "source": []
  }
 ],
 "metadata": {
  "kernelspec": {
   "display_name": "Python 3",
   "language": "python",
   "name": "python3"
  },
  "language_info": {
   "codemirror_mode": {
    "name": "ipython",
    "version": 3
   },
   "file_extension": ".py",
   "mimetype": "text/x-python",
   "name": "python",
   "nbconvert_exporter": "python",
   "pygments_lexer": "ipython3",
   "version": "3.7.6"
  }
 },
 "nbformat": 4,
 "nbformat_minor": 4
}
